{
 "cells": [
  {
   "cell_type": "markdown",
   "metadata": {},
   "source": [
    "# Newton Integration Root Finding"
   ]
  },
  {
   "cell_type": "code",
   "execution_count": 1,
   "metadata": {
    "collapsed": true
   },
   "outputs": [],
   "source": [
    "import numpy as np\n",
    "from polyrand.rootfinder import *\n",
    "import matplotlib.pyplot as plt\n",
    "%matplotlib inline\n"
   ]
  },
  {
   "cell_type": "markdown",
   "metadata": {},
   "source": [
    "### Fractional Antiderivative\n",
    "\n",
    "$\\frac{\\Gamma(k)}{\\Gamma(k+a)} c_k x^{k+a} + \\frac{\\Gamma(k-1)}{\\Gamma(k-1+a)} c_{k-1} x^{k-1+a} + \\cdots + c_0 x^a + C$\n",
    "\n",
    "$x^a (\\frac{\\Gamma(k)}{\\Gamma(k+a)} c_k x^{k} + \\frac{\\Gamma(k-1)}{\\Gamma(k-1+a)} c_{k-1} x^{k-1} + \\cdots + c_0 x + C)$\n",
    "\n",
    "$x^a (\\sum_{i=0}^{k} \\frac{\\Gamma(k-i)}{\\Gamma(k-i+a)} c_{k-i} x^{k-i} + C)$\n",
    "\n",
    "Let $G_{k,a} = \\frac{\\Gamma(k)}{\\Gamma(k+a)}$, then \n",
    "\n",
    "$x^a (\\sum_{i=0}^{k} G_{k-i,a} c_{k-i} x^{k-i} + C)$"
   ]
  },
  {
   "cell_type": "markdown",
   "metadata": {},
   "source": [
    "**Newton Integration**\n",
    "\n",
    "1) Get coefficients of the polynomial to be solved.\n",
    "\n",
    "2) Differentiate down to a polynomial $d^np$ whose roots are known.\n",
    "\n",
    "3) Find the fractional antiderivative $d^{n+a}p$ where $a \\in (0,1]$.\n",
    "\n",
    "4) Find the roots of $d^{n+a}p$ using newton's method with the roots of $d^np$ as the guess.\n",
    "\n",
    "5) Update roots by repeating steps 3 and 4."
   ]
  },
  {
   "cell_type": "code",
   "execution_count": 27,
   "metadata": {},
   "outputs": [
    {
     "data": {
      "image/png": "[encoded data removed]",
      "text/plain": [
       "<matplotlib.figure.Figure at 0x7f38cc1b4b38>"
      ]
     },
     "metadata": {},
     "output_type": "display_data"
    }
   ],
   "source": [
    "# test case\n",
    "coeffs = np.ones(6)\n",
    "timelapse(coeffs,0,5,n_frames=50)"
   ]
  },
  {
   "cell_type": "code",
   "execution_count": 37,
   "metadata": {
    "collapsed": true
   },
   "outputs": [],
   "source": [
    "def newton_integration_x(coeffs,dx,n_steps=3):\n",
    "    \"\"\"\n",
    "    NIRF (Integration)\n",
    "    NERF (Eigenvalue)\n",
    "    NARF (Antiderivative)\n",
    "    N*RF (Newton * Root Finding)\n",
    "    Use newton's method to integrate the roots of a polynomial up to a different polynomial.\n",
    "    \n",
    "    \"\"\"\n",
    "    A = cheb_nodes(0,dx,n_steps)\n",
    "    \n",
    "    plt.figure(figsize=(8,8))\n",
    "    \n",
    "    # plot the solution we hope to get to\n",
    "    R = np.polynomial.polynomial.Polynomial(coeffs).roots()\n",
    "    plt.scatter(R.real,R.imag,alpha=.5)\n",
    "    \n",
    "    # degree of polynomial\n",
    "    d = len(coeffs) - 1\n",
    "    \n",
    "    # Find known roots of a derivative\n",
    "    df = frac_deriv(coeffs,dx)\n",
    "    Roots = np.linalg.eig(df)[0]\n",
    "    plt.scatter(Roots.real,Roots.imag,color='r',alpha=.5)\n",
    "    \n",
    "    #frac_antideriv(-1*df[:,-1])\n",
    "\n",
    "    for a in A:\n",
    "        # define the function to optimize\n",
    "        F = frac_antideriv(-1*df[:,-1],a,coeffs[:dx])\n",
    "        P = np.polynomial.polynomial.Polynomial(F)\n",
    "        \n",
    "        print(Roots)\n",
    "        Z = []\n",
    "\n",
    "        # Newton's method to find roots of function to optimize\n",
    "        for r in Roots: # which are roots of P0\n",
    "            #print(r,type(r),r.imag)\n",
    "            z = newton(P,np.complex128(r))\n",
    "            Z.append(z)\n",
    "            plt.scatter(z.real,z.imag,color='orange',alpha=.2)\n",
    "        Roots = Z\n",
    "            \n",
    "    plt.xlim(-1.5,1.5)\n",
    "    plt.ylim(-1.5,1.5)\n",
    "    plt.show()"
   ]
  },
  {
   "cell_type": "code",
   "execution_count": 38,
   "metadata": {},
   "outputs": [
    {
     "name": "stdout",
     "output_type": "stream",
     "text": [
      "[-0.25980689  0.91009998]\n",
      "[(0.62165894268868926+0j), (0.62165894268869148+0j)]\n",
      "[(0.62312207847179013+0j), (0.62312207847179013+0j)]\n",
      "[(0.62542847575819349+0j), (0.62542847575819349+0j)]\n",
      "[(0.62764328209097964+0j), (0.62764328209097964+0j)]\n",
      "[(0.62887256399480429+0j), (0.62887256399480429+0j)]\n",
      "[(0.62846207518950126+0j), (0.62846207518950126+0j)]\n",
      "[(0.62603357691597905+0j), (0.62603357691597905+0j)]\n",
      "[(0.62145964455725922+0j), (0.62145964455725922+0j)]\n",
      "[(0.59928519129444713+0j), (0.59928519129444713+0j)]\n",
      "[(0.59577624171505505+0j), (0.59577624171505505+0j)]\n",
      "[(0.59018794177636114+0j), (0.59018794177636114+0j)]\n",
      "[(0.58372928810601987+0j), (0.58372928810601987+0j)]\n",
      "[(0.57757709390861089+0j), (0.57757709390861089+0j)]\n",
      "[(0.57279031838794059+0j), (0.57279031838794059+0j)]\n"
     ]
    },
    {
     "data": {
      "image/png": "[encoded data removed]",
      "text/plain": [
       "<matplotlib.figure.Figure at 0x7f38cbf4e048>"
      ]
     },
     "metadata": {},
     "output_type": "display_data"
    }
   ],
   "source": [
    "coeffs = np.random.randn(5)\n",
    "coeffs[-1] = 1.\n",
    "P = np.polynomial.polynomial.Polynomial(coeffs)\n",
    "\n",
    "R = newton_integration_x(coeffs,2,n_steps=15)"
   ]
  },
  {
   "cell_type": "code",
   "execution_count": 39,
   "metadata": {},
   "outputs": [
    {
     "data": {
      "text/plain": [
       "<matplotlib.collections.PathCollection at 0x7f38cc033b00>"
      ]
     },
     "execution_count": 39,
     "metadata": {},
     "output_type": "execute_result"
    },
    {
     "data": {
      "image/png": "[encoded data removed]",
      "text/plain": [
       "<matplotlib.figure.Figure at 0x7f38cbf4ee80>"
      ]
     },
     "metadata": {},
     "output_type": "display_data"
    }
   ],
   "source": [
    "plt.scatter(cheb_nodes(0,1,100),np.zeros(100),alpha=.1)"
   ]
  },
  {
   "cell_type": "code",
   "execution_count": 41,
   "metadata": {},
   "outputs": [
    {
     "data": {
      "image/png": "[encoded data removed]",
      "text/plain": [
       "<matplotlib.figure.Figure at 0x7f38cbf99b70>"
      ]
     },
     "metadata": {},
     "output_type": "display_data"
    }
   ],
   "source": [
    "line, = plt.plot([],[],color='r')\n",
    "line.set_label(\"red\")"
   ]
  },
  {
   "cell_type": "code",
   "execution_count": null,
   "metadata": {
    "collapsed": true
   },
   "outputs": [],
   "source": []
  }
 ],
 "metadata": {
  "kernelspec": {
   "display_name": "Python 3",
   "language": "python",
   "name": "python3"
  },
  "language_info": {
   "codemirror_mode": {
    "name": "ipython",
    "version": 3
   },
   "file_extension": ".py",
   "mimetype": "text/x-python",
   "name": "python",
   "nbconvert_exporter": "python",
   "pygments_lexer": "ipython3",
   "version": "3.6.1"
  }
 },
 "nbformat": 4,
 "nbformat_minor": 2
}
