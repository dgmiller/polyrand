{
 "cells": [
  {
   "cell_type": "markdown",
   "metadata": {},
   "source": [
    "# Newton Integration Root Finding"
   ]
  },
  {
   "cell_type": "code",
   "execution_count": 1,
   "metadata": {
    "collapsed": true
   },
   "outputs": [],
   "source": [
    "import numpy as np\n",
    "from polyrand.rootfinder import *\n",
    "import matplotlib.pyplot as plt\n",
    "%matplotlib inline\n"
   ]
  },
  {
   "cell_type": "markdown",
   "metadata": {},
   "source": [
    "### Fractional Antiderivative\n",
    "\n",
    "$\\frac{\\Gamma(k)}{\\Gamma(k+a)} c_k x^{k+a} + \\frac{\\Gamma(k-1)}{\\Gamma(k-1+a)} c_{k-1} x^{k-1+a} + \\cdots + c_0 x^a + C$\n",
    "\n",
    "$x^a (\\frac{\\Gamma(k)}{\\Gamma(k+a)} c_k x^{k} + \\frac{\\Gamma(k-1)}{\\Gamma(k-1+a)} c_{k-1} x^{k-1} + \\cdots + c_0 x + C)$\n",
    "\n",
    "$x^a (\\sum_{i=0}^{k} \\frac{\\Gamma(k-i)}{\\Gamma(k-i+a)} c_{k-i} x^{k-i} + C)$\n",
    "\n",
    "Let $G_{k,a} = \\frac{\\Gamma(k)}{\\Gamma(k+a)}$, then \n",
    "\n",
    "$x^a (\\sum_{i=0}^{k} G_{k-i,a} c_{k-i} x^{k-i} + C)$"
   ]
  },
  {
   "cell_type": "markdown",
   "metadata": {},
   "source": [
    "**Newton Integration**\n",
    "\n",
    "1) Get coefficients of the polynomial to be solved.\n",
    "\n",
    "2) Differentiate down to a polynomial $d^np$ whose roots are known.\n",
    "\n",
    "3) Find the fractional antiderivative $d^{n+a}p$ where $a \\in (0,1]$.\n",
    "\n",
    "4) Find the roots of $d^{n+a}p$ using newton's method with the roots of $d^np$ as the guess.\n",
    "\n",
    "5) Update roots by repeating steps 3 and 4."
   ]
  },
  {
   "cell_type": "code",
   "execution_count": 2,
   "metadata": {
    "collapsed": true
   },
   "outputs": [],
   "source": [
    "def newton_integration_x(coeffs,dx,n_steps=3):\n",
    "    \"\"\"\n",
    "    NIRF (Integration)\n",
    "    NERF (Eigenvalue)\n",
    "    NARF (Antiderivative)\n",
    "    N*RF (Newton * Root Finding)\n",
    "    Use newton's method to integrate the roots of a polynomial up to a different polynomial.\n",
    "    \n",
    "    \"\"\"\n",
    "    A = cheb_nodes(0,dx,n_steps)\n",
    "    \n",
    "    plt.figure(figsize=(8,8))\n",
    "    \n",
    "    # plot the solution we hope to get to\n",
    "    R = np.polynomial.polynomial.Polynomial(coeffs).roots()\n",
    "    plt.scatter(R.real,R.imag,color='k',alpha=.5)\n",
    "    \n",
    "    # degree of polynomial\n",
    "    d = len(coeffs) - 1\n",
    "    \n",
    "    # Find known roots of a derivative\n",
    "    df = frac_deriv(coeffs,dx)\n",
    "    Roots = np.linalg.eig(df)[0]\n",
    "    plt.scatter(Roots.real,Roots.imag,color='r',alpha=.5)\n",
    "    \n",
    "    frac_antideriv(-1*df[:,-1])\n",
    "\n",
    "#     for a in A:\n",
    "#         # define the function to optimize\n",
    "#         F = frac_antideriv(-1*df[:,-1],a,coeffs[:dx])\n",
    "#         P = np.polynomial.polynomial.Polynomial(F)\n",
    "\n",
    "#         # Newton's method to find roots of function to optimize\n",
    "#         for r in Roots: # which are roots of P0\n",
    "#             z = newton(P,np.complex128(r))\n",
    "#             plt.scatter(z.real,z.imag,color='orange',alpha=.2)\n",
    "            \n",
    "    plt.xlim(-1.5,1.5)\n",
    "    plt.ylim(-1.5,1.5)\n",
    "    plt.show()"
   ]
  },
  {
   "cell_type": "code",
   "execution_count": 3,
   "metadata": {
    "collapsed": false
   },
   "outputs": [
    {
     "ename": "TypeError",
     "evalue": "frac_antideriv() missing 2 required positional arguments: 'a' and 'const'",
     "output_type": "error",
     "traceback": [
      "\u001b[0;31m---------------------------------------------------------------------------\u001b[0m",
      "\u001b[0;31mTypeError\u001b[0m                                 Traceback (most recent call last)",
      "\u001b[0;32m<ipython-input-3-c9b4ac68dcca>\u001b[0m in \u001b[0;36m<module>\u001b[0;34m()\u001b[0m\n\u001b[1;32m      3\u001b[0m \u001b[0mP\u001b[0m \u001b[0;34m=\u001b[0m \u001b[0mnp\u001b[0m\u001b[0;34m.\u001b[0m\u001b[0mpolynomial\u001b[0m\u001b[0;34m.\u001b[0m\u001b[0mpolynomial\u001b[0m\u001b[0;34m.\u001b[0m\u001b[0mPolynomial\u001b[0m\u001b[0;34m(\u001b[0m\u001b[0mcoeffs\u001b[0m\u001b[0;34m)\u001b[0m\u001b[0;34m\u001b[0m\u001b[0m\n\u001b[1;32m      4\u001b[0m \u001b[0;34m\u001b[0m\u001b[0m\n\u001b[0;32m----> 5\u001b[0;31m \u001b[0mR\u001b[0m \u001b[0;34m=\u001b[0m \u001b[0mnewton_integration_x\u001b[0m\u001b[0;34m(\u001b[0m\u001b[0mcoeffs\u001b[0m\u001b[0;34m,\u001b[0m\u001b[0;36m2\u001b[0m\u001b[0;34m)\u001b[0m\u001b[0;34m\u001b[0m\u001b[0m\n\u001b[0m",
      "\u001b[0;32m<ipython-input-2-5cd030e237fb>\u001b[0m in \u001b[0;36mnewton_integration_x\u001b[0;34m(coeffs, dx, n_steps)\u001b[0m\n\u001b[1;32m     24\u001b[0m     \u001b[0mplt\u001b[0m\u001b[0;34m.\u001b[0m\u001b[0mscatter\u001b[0m\u001b[0;34m(\u001b[0m\u001b[0mRoots\u001b[0m\u001b[0;34m.\u001b[0m\u001b[0mreal\u001b[0m\u001b[0;34m,\u001b[0m\u001b[0mRoots\u001b[0m\u001b[0;34m.\u001b[0m\u001b[0mimag\u001b[0m\u001b[0;34m,\u001b[0m\u001b[0mcolor\u001b[0m\u001b[0;34m=\u001b[0m\u001b[0;34m'r'\u001b[0m\u001b[0;34m,\u001b[0m\u001b[0malpha\u001b[0m\u001b[0;34m=\u001b[0m\u001b[0;36m.5\u001b[0m\u001b[0;34m)\u001b[0m\u001b[0;34m\u001b[0m\u001b[0m\n\u001b[1;32m     25\u001b[0m \u001b[0;34m\u001b[0m\u001b[0m\n\u001b[0;32m---> 26\u001b[0;31m     \u001b[0mfrac_antideriv\u001b[0m\u001b[0;34m(\u001b[0m\u001b[0;34m-\u001b[0m\u001b[0;36m1\u001b[0m\u001b[0;34m*\u001b[0m\u001b[0mdf\u001b[0m\u001b[0;34m[\u001b[0m\u001b[0;34m:\u001b[0m\u001b[0;34m,\u001b[0m\u001b[0;34m-\u001b[0m\u001b[0;36m1\u001b[0m\u001b[0;34m]\u001b[0m\u001b[0;34m)\u001b[0m\u001b[0;34m\u001b[0m\u001b[0m\n\u001b[0m\u001b[1;32m     27\u001b[0m \u001b[0;34m\u001b[0m\u001b[0m\n\u001b[1;32m     28\u001b[0m \u001b[0;31m#     for a in A:\u001b[0m\u001b[0;34m\u001b[0m\u001b[0;34m\u001b[0m\u001b[0m\n",
      "\u001b[0;31mTypeError\u001b[0m: frac_antideriv() missing 2 required positional arguments: 'a' and 'const'"
     ]
    },
    {
     "data": {
      "image/png": "[encoded data removed]",
      "text/plain": [
       "<matplotlib.figure.Figure at 0x7f524fbd5278>"
      ]
     },
     "metadata": {},
     "output_type": "display_data"
    }
   ],
   "source": [
    "coeffs = np.random.randn(5)\n",
    "coeffs[-1] = 1.\n",
    "P = np.polynomial.polynomial.Polynomial(coeffs)\n",
    "\n",
    "R = newton_integration_x(coeffs,2)"
   ]
  },
  {
   "cell_type": "code",
   "execution_count": null,
   "metadata": {
    "collapsed": true
   },
   "outputs": [],
   "source": [
    "plt.scatter(cheb_nodes(0,2,100),np.zeros(100),alpha=.1)"
   ]
  },
  {
   "cell_type": "code",
   "execution_count": null,
   "metadata": {
    "collapsed": true
   },
   "outputs": [],
   "source": []
  }
 ],
 "metadata": {
  "kernelspec": {
   "display_name": "Python 3",
   "language": "python",
   "name": "python3"
  },
  "language_info": {
   "codemirror_mode": {
    "name": "ipython",
    "version": 3
   },
   "file_extension": ".py",
   "mimetype": "text/x-python",
   "name": "python",
   "nbconvert_exporter": "python",
   "pygments_lexer": "ipython3",
   "version": "3.6.0"
  }
 },
 "nbformat": 4,
 "nbformat_minor": 2
}
